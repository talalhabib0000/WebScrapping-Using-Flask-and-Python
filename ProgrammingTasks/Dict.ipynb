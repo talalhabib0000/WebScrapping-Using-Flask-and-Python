{
 "cells": [
  {
   "cell_type": "code",
   "execution_count": 1,
   "metadata": {},
   "outputs": [],
   "source": [
    "d = {\n",
    "        \"a\":{\n",
    "                \"b\":1,\n",
    "                \"d\":{\n",
    "                    \"e\":1,\n",
    "                    \"f\":\"g\"\n",
    "                },\n",
    "                \"h\":[123,421]\n",
    "            },\n",
    "        \"v\":\"asdasdasd\",\n",
    "        \"k\":{\n",
    "                \"b\":1,\n",
    "                \"d\":{\n",
    "                    \"e\":1,\n",
    "                    \"f\":\"g\"\n",
    "                },\n",
    "                \"h\":[123,421]\n",
    "            },\n",
    "    }"
   ]
  },
  {
   "cell_type": "code",
   "execution_count": 6,
   "metadata": {},
   "outputs": [
    {
     "data": {
      "text/plain": [
       "dict_keys(['a', 'v', 'k'])"
      ]
     },
     "execution_count": 6,
     "metadata": {},
     "output_type": "execute_result"
    }
   ],
   "source": [
    "d.keys()\n"
   ]
  },
  {
   "cell_type": "code",
   "execution_count": 12,
   "metadata": {},
   "outputs": [
    {
     "data": {
      "text/plain": [
       "'asdasdasd'"
      ]
     },
     "execution_count": 12,
     "metadata": {},
     "output_type": "execute_result"
    }
   ],
   "source": [
    "x=d.get(\"v\")\n",
    "x"
   ]
  },
  {
   "cell_type": "code",
   "execution_count": 26,
   "metadata": {},
   "outputs": [
    {
     "name": "stdout",
     "output_type": "stream",
     "text": [
      "g\n"
     ]
    }
   ],
   "source": [
    "# print(d[\"a\"][\"b\"])\n",
    "print(d[\"a\"][\"d\"][\"f\"])\n",
    "recursion"
   ]
  },
  {
   "cell_type": "markdown",
   "metadata": {},
   "source": [
    "The isinstance() function checks if the object (first argument) is an instance or subclass of classinfo class (second argument)."
   ]
  },
  {
   "cell_type": "code",
   "execution_count": 44,
   "metadata": {},
   "outputs": [],
   "source": [
    "def get_output(d):\n",
    "    output = []\n",
    "\n",
    "    for key, value in d.items():\n",
    "        if key == \"a\":\n",
    "            output.append(value)\n",
    "        elif isinstance(value, dict):\n",
    "            output += get_output(value)\n",
    "    return output\n",
    "\n"
   ]
  },
  {
   "cell_type": "code",
   "execution_count": 45,
   "metadata": {},
   "outputs": [
    {
     "data": {
      "text/plain": [
       "[{'b': 1, 'd': {'e': 1, 'f': 'g'}, 'h': [123, 421]}]"
      ]
     },
     "execution_count": 45,
     "metadata": {},
     "output_type": "execute_result"
    }
   ],
   "source": [
    "get_output(d)"
   ]
  },
  {
   "cell_type": "code",
   "execution_count": 39,
   "metadata": {},
   "outputs": [
    {
     "name": "stdout",
     "output_type": "stream",
     "text": [
      "b : 1\n",
      "e : 1\n",
      "f : g\n",
      "h : [123, 421]\n",
      "v : asdasdasd\n",
      "b : 1\n",
      "e : 1\n",
      "f : g\n",
      "h : [123, 421]\n"
     ]
    }
   ],
   "source": [
    "def iterdict(d):\n",
    "    for k,a in d.items():        \n",
    "        if isinstance(a, dict):\n",
    "            iterdict(a)\n",
    "        else:            \n",
    "            print (k,\":\",a)\n",
    "\n",
    "iterdict(d)"
   ]
  }
 ],
 "metadata": {
  "kernelspec": {
   "display_name": "Python 3.10.5 64-bit",
   "language": "python",
   "name": "python3"
  },
  "language_info": {
   "codemirror_mode": {
    "name": "ipython",
    "version": 3
   },
   "file_extension": ".py",
   "mimetype": "text/x-python",
   "name": "python",
   "nbconvert_exporter": "python",
   "pygments_lexer": "ipython3",
   "version": "3.10.5"
  },
  "orig_nbformat": 4,
  "vscode": {
   "interpreter": {
    "hash": "712048136dd7815c9862ac838f16f1bb4aa74ca310dfb94a8281910614adf0e5"
   }
  }
 },
 "nbformat": 4,
 "nbformat_minor": 2
}
