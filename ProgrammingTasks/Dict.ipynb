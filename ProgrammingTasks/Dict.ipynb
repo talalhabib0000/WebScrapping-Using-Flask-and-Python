{
 "cells": [
  {
   "cell_type": "code",
   "execution_count": 2,
   "metadata": {},
   "outputs": [],
   "source": [
    "d = {\n",
    "        \"a\":{\n",
    "                \"b\":1,\n",
    "                \"d\":{\n",
    "                    \"e\":1,\n",
    "                    \"f\":\"g\"\n",
    "                },\n",
    "                \"h\":[123,421]\n",
    "            },\n",
    "        \"v\":\"asdasdasd\",\n",
    "        \"k\":{\n",
    "                \"b\":1,\n",
    "                \"d\":{\n",
    "                    \"e\":1,\n",
    "                    \"f\":\"g\"\n",
    "                },\n",
    "                \"h\":[123,421]\n",
    "            },\n",
    "    }"
   ]
  },
  {
   "cell_type": "code",
   "execution_count": 6,
   "metadata": {},
   "outputs": [
    {
     "data": {
      "text/plain": [
       "dict"
      ]
     },
     "execution_count": 6,
     "metadata": {},
     "output_type": "execute_result"
    }
   ],
   "source": [
    "type(d['a'])"
   ]
  },
  {
   "cell_type": "code",
   "execution_count": 6,
   "metadata": {},
   "outputs": [
    {
     "data": {
      "text/plain": [
       "dict_keys(['a', 'v', 'k'])"
      ]
     },
     "execution_count": 6,
     "metadata": {},
     "output_type": "execute_result"
    }
   ],
   "source": [
    "d.keys()\n"
   ]
  },
  {
   "cell_type": "code",
   "execution_count": 12,
   "metadata": {},
   "outputs": [
    {
     "data": {
      "text/plain": [
       "'asdasdasd'"
      ]
     },
     "execution_count": 12,
     "metadata": {},
     "output_type": "execute_result"
    }
   ],
   "source": [
    "x=d.get(\"v\")\n",
    "x"
   ]
  },
  {
   "cell_type": "code",
   "execution_count": 26,
   "metadata": {},
   "outputs": [
    {
     "name": "stdout",
     "output_type": "stream",
     "text": [
      "g\n"
     ]
    }
   ],
   "source": [
    "# print(d[\"a\"][\"b\"])\n",
    "print(d[\"a\"][\"d\"][\"f\"])\n",
    "recursion"
   ]
  },
  {
   "cell_type": "markdown",
   "metadata": {},
   "source": [
    "The isinstance() function checks if the object (first argument) is an instance or subclass of classinfo class (second argument)."
   ]
  },
  {
   "cell_type": "code",
   "execution_count": 44,
   "metadata": {},
   "outputs": [],
   "source": [
    "def get_output(d):\n",
    "    output = []\n",
    "\n",
    "    for key, value in d.items():\n",
    "        if key == \"a\":\n",
    "            output.append(value)\n",
    "        elif isinstance(value, dict):\n",
    "            output += get_output(value)\n",
    "    return output"
   ]
  },
  {
   "cell_type": "code",
   "execution_count": null,
   "metadata": {},
   "outputs": [],
   "source": [
    "get_output(d)"
   ]
  },
  {
   "cell_type": "code",
   "execution_count": null,
   "metadata": {},
   "outputs": [],
   "source": [
    "def iterdict(d):\n",
    "    for k,a in d.items():        \n",
    "        if isinstance(a, dict):\n",
    "            iterdict(a)\n",
    "        else:            \n",
    "            print (k,\":\",a)\n",
    "\n",
    "iterdict(d)"
   ]
  },
  {
   "cell_type": "markdown",
   "metadata": {},
   "source": [
    "Stack Preordered"
   ]
  },
  {
   "cell_type": "code",
   "execution_count": 12,
   "metadata": {},
   "outputs": [],
   "source": [
    "class Node:\n",
    "            def __init__(self,value,left=None,right=None):\n",
    "                self.value = value\n",
    "                self.left = left\n",
    "                self.right = right\n",
    "            def __str__(self):\n",
    "                return \"Node (\" + str(self.value) + \")\"\n",
    "\n",
    "def walk(tree):\n",
    "                    if tree is not None:\n",
    "                        print(tree)\n",
    "                    walk(tree.left)\n",
    "                    walk(tree.right)"
   ]
  },
  {
   "cell_type": "code",
   "execution_count": null,
   "metadata": {},
   "outputs": [],
   "source": []
  },
  {
   "cell_type": "code",
   "execution_count": 21,
   "metadata": {},
   "outputs": [],
   "source": [
    "\n",
    "d = {\n",
    "        \"a\":{\n",
    "                \"b\":1,\n",
    "                \"d\":{\n",
    "                    \"e\":1,\n",
    "                    \"f\":\"g\"\n",
    "                },\n",
    "                \"h\":[123,421]\n",
    "            },\n",
    "        \"v\":\"asdasdasd\",\n",
    "        \"k\":{\n",
    "                \"b\":1,\n",
    "                \"d\":{\n",
    "                    \"e\":1,\n",
    "                    \"f\":\"g\",\n",
    "                    \"n\":\"ABC\"\n",
    "                },\n",
    "                \"h\":[123,421]\n",
    "            },\n",
    "    }"
   ]
  },
  {
   "cell_type": "code",
   "execution_count": 28,
   "metadata": {},
   "outputs": [
    {
     "data": {
      "text/plain": [
       "dict_keys(['a', 'v', 'k'])"
      ]
     },
     "execution_count": 28,
     "metadata": {},
     "output_type": "execute_result"
    }
   ],
   "source": [
    "d.keys()"
   ]
  },
  {
   "cell_type": "code",
   "execution_count": 26,
   "metadata": {},
   "outputs": [],
   "source": [
    "def printValues(d):\n",
    "    for k in d.keys():\n",
    "        if(isinstance(d[k], dict)):\n",
    "            printValues(d[k])\n",
    "        else:\n",
    "            print(d[k])"
   ]
  },
  {
   "cell_type": "code",
   "execution_count": 88,
   "metadata": {},
   "outputs": [
    {
     "name": "stdout",
     "output_type": "stream",
     "text": [
      "1\n",
      "1\n",
      "g\n",
      "[123, 421]\n",
      "asdasdasd\n",
      "1\n",
      "1\n",
      "g\n",
      "[123, 421]\n",
      "None\n"
     ]
    }
   ],
   "source": [
    "print(printValues(d))"
   ]
  },
  {
   "cell_type": "code",
   "execution_count": 4,
   "metadata": {},
   "outputs": [],
   "source": [
    "\n",
    "d = {\n",
    "        \"a\":{\n",
    "                \"b\":1,\n",
    "                \"d\":{\n",
    "                    \"e\":1,\n",
    "                    \"f\":\"g\"\n",
    "                },\n",
    "                \"h\":[123,421]\n",
    "            },\n",
    "        \"v\":\"asdasdasd\",\n",
    "        \"k\":{\n",
    "                \"b\":1,\n",
    "                \"d\":{\n",
    "                    \"e\":1,\n",
    "                    \"f\":\"g\",\n",
    "                    \"n\":\"ABC\"\n",
    "                },\n",
    "                \"h\":[123,421]\n",
    "            },\n",
    "    }"
   ]
  },
  {
   "cell_type": "code",
   "execution_count": 7,
   "metadata": {},
   "outputs": [],
   "source": [
    "def searchvalue(searchTerm,d):\n",
    "    for k in d.keys():\n",
    "        if (isinstance(d[k],dict)):\n",
    "            searchvalue(searchTerm, d[k])\n",
    "        else:\n",
    "            if(d[k]==searchTerm):\n",
    "                print(d[k])"
   ]
  },
  {
   "cell_type": "code",
   "execution_count": 10,
   "metadata": {},
   "outputs": [
    {
     "name": "stdout",
     "output_type": "stream",
     "text": [
      "1\n",
      "1\n",
      "1\n",
      "1\n"
     ]
    }
   ],
   "source": [
    "searchvalue(1,d)"
   ]
  },
  {
   "cell_type": "code",
   "execution_count": null,
   "metadata": {},
   "outputs": [],
   "source": []
  }
 ],
 "metadata": {
  "kernelspec": {
   "display_name": "Python 3.10.5 64-bit",
   "language": "python",
   "name": "python3"
  },
  "language_info": {
   "codemirror_mode": {
    "name": "ipython",
    "version": 3
   },
   "file_extension": ".py",
   "mimetype": "text/x-python",
   "name": "python",
   "nbconvert_exporter": "python",
   "pygments_lexer": "ipython3",
   "version": "3.10.5"
  },
  "orig_nbformat": 4,
  "vscode": {
   "interpreter": {
    "hash": "712048136dd7815c9862ac838f16f1bb4aa74ca310dfb94a8281910614adf0e5"
   }
  }
 },
 "nbformat": 4,
 "nbformat_minor": 2
}
