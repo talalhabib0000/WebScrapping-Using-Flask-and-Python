{
 "cells": [
  {
   "cell_type": "code",
   "execution_count": 28,
   "metadata": {},
   "outputs": [],
   "source": [
    "from email.message import Message\n",
    "import pandas as pd\n",
    "from sklearn.metrics import classification_report, confusion_matrix, accuracy_score\n",
    "import numpy as np\n",
    "import re  # support regular expressions\n",
    "from bs4 import BeautifulSoup\n",
    "import requests\n",
    "import urllib.parse\n",
    "from flask import Flask, render_template, request\n",
    "import pickle\n",
    "from nltk.corpus import stopwords\n",
    "from collections import Counter\n",
    "import pyodbc as odbc\n",
    "from flask_sqlalchemy import sqlalchemy\n",
    "from datetime import datetime"
   ]
  },
  {
   "cell_type": "code",
   "execution_count": 29,
   "metadata": {},
   "outputs": [],
   "source": [
    "userInput=\"Hello\"\n",
    "safe_string = urllib.parse.quote_plus(userInput)\n",
    "# Request Page Source for URL\n",
    "url = f\"https://www.imdb.com/find?q={safe_string}&ref_=nv_sr_sm\"\n",
    "page = requests.get(url)\n",
    "# Displaying Page Source Code\n",
    "soup = BeautifulSoup(page.content, \"html.parser\")\n",
    "scraped_movies = soup.findAll('td', class_=\"result_text\")\n",
    "# url1 = f\"https://www.imdb.com/title/{movieCode}/reviews/\"\n",
    "# movieCode =  soup.find('td', 'result_text').find('a').get('href')\n",
    "\n",
    "# .find('a').get('href').split('/')[2]\n"
   ]
  },
  {
   "cell_type": "code",
   "execution_count": 57,
   "metadata": {},
   "outputs": [
    {
     "name": "stdout",
     "output_type": "stream",
     "text": [
      "[{'MovieName': 'Hello (III) (2017)', 'MovieCode': 'tt6816070'}]\n",
      "[{'MovieName': 'Hello (III) (2017)', 'MovieCode': 'tt6816070'}, {'MovieName': 'Hello (II) (2008)', 'MovieCode': 'tt1087856'}]\n"
     ]
    }
   ],
   "source": [
    "\n",
    "sections=soup.findAll('div', class_=\"findSection\")\n",
    "for section in sections:\n",
    "    sectionContent=section.contents\n",
    "    sectionHeader=sectionContent[1].contents\n",
    "    scrap_Movies=section.findAll('td', class_=\"result_text\")\n",
    "    if sectionHeader[1]=='Titles':\n",
    "        movieDetails=[]\n",
    "        for ScrapMovie in scrap_Movies:\n",
    "            movie=ScrapMovie.get_text().replace('\\n',\"\")\n",
    "            movie=movie.strip(\" \")\n",
    "            code =  ScrapMovie.find('a').get('href').split('/')[2]\n",
    "            movieDetail={'MovieName':movie,'MovieCode':code}\n",
    "            movieDetails.append(movieDetail)\n",
    "            print(movieDetails)\n",
    "    #     url1 = f\"https://www.imdb.com/title/{movieCode}/reviews/\"\n",
    "    #     pages = requests.get(url1)\n",
    "    #     soup = BeautifulSoup(pages.content, \"html.parser\")\n",
    "    #     scraped_remarks = soup.find_all('div', class_=\"text show-more__control\")\n",
    "    #     reviews = []\n",
    "    # for scraped_remark in scraped_remarks:\n",
    "    #     scraped_remark = scraped_remark.get_text().replace('\\n', \"\")\n",
    "    #     reviews.append(scraped_remark)\n",
    "        \n"
   ]
  },
  {
   "cell_type": "code",
   "execution_count": null,
   "metadata": {},
   "outputs": [],
   "source": []
  },
  {
   "cell_type": "code",
   "execution_count": 67,
   "metadata": {},
   "outputs": [],
   "source": [
    "def getMovieInfo(searchTerm):\n",
    "    movieDetails=[]\n",
    "    safe_string = urllib.parse.quote_plus(searchTerm)\n",
    "# Request Page Source for URL\n",
    "    url = f\"https://www.imdb.com/find?q={safe_string}&ref_=nv_sr_sm\"\n",
    "    page = requests.get(url)\n",
    "# Displaying Page Source Code\n",
    "    soup = BeautifulSoup(page.content, \"html.parser\")\n",
    "    scraped_movies = soup.findAll('td', class_=\"result_text\")\n",
    "    sections=soup.findAll('div', class_=\"findSection\")\n",
    "    for section in sections:\n",
    "        sectionContent=section.contents\n",
    "        sectionHeader=sectionContent[1].contents\n",
    "        scrap_Movies=section.findAll('td', class_=\"result_text\")\n",
    "        if sectionHeader[1]=='Titles':\n",
    "            for ScrapMovie in scrap_Movies:\n",
    "                movie=ScrapMovie.get_text().replace('\\n',\"\")\n",
    "                movie=movie.strip(\" \")\n",
    "                code =  ScrapMovie.find('a').get('href').split('/')[2]\n",
    "                movieDetail={'MovieName':movie,'MovieCode':code}\n",
    "                movieDetails.append(movieDetail)\n",
    "    return movieDetails"
   ]
  },
  {
   "cell_type": "code",
   "execution_count": 68,
   "metadata": {},
   "outputs": [
    {
     "name": "stdout",
     "output_type": "stream",
     "text": [
      "[]\n"
     ]
    },
    {
     "data": {
      "text/plain": [
       "[]"
      ]
     },
     "execution_count": 68,
     "metadata": {},
     "output_type": "execute_result"
    }
   ],
   "source": [
    "getMovieInfo('56788kumjm8i9kli')"
   ]
  },
  {
   "cell_type": "code",
   "execution_count": null,
   "metadata": {},
   "outputs": [],
   "source": [
    "userInput = \"batman\"\n",
    "foundMovieCodes = getMovieCodes(userInput)\n",
    "#sample output ['Tradfger-111','Tradfger-e','Tradfger-s']\n",
    "movieReviews = getMovieReviews(foundMovieCodes)\n",
    "#sample output [\n",
    "#   'Tradfger-111':['movie was very good', 'movie was ok' ...],\n",
    "#   'Tradfger-e':['movie was very good', 'movie was ok' ...],\n",
    "#   'Tradfger-s':['movie was very good', 'movie was ok' ...]\n",
    "# ]\n"
   ]
  }
 ],
 "metadata": {
  "kernelspec": {
   "display_name": "Python 3.10.5 64-bit",
   "language": "python",
   "name": "python3"
  },
  "language_info": {
   "codemirror_mode": {
    "name": "ipython",
    "version": 3
   },
   "file_extension": ".py",
   "mimetype": "text/x-python",
   "name": "python",
   "nbconvert_exporter": "python",
   "pygments_lexer": "ipython3",
   "version": "3.10.5"
  },
  "orig_nbformat": 4,
  "vscode": {
   "interpreter": {
    "hash": "712048136dd7815c9862ac838f16f1bb4aa74ca310dfb94a8281910614adf0e5"
   }
  }
 },
 "nbformat": 4,
 "nbformat_minor": 2
}
